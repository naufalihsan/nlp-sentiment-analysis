{
  "nbformat": 4,
  "nbformat_minor": 0,
  "metadata": {
    "colab": {
      "name": "nlp-sentiment-analysis",
      "provenance": [],
      "collapsed_sections": [],
      "authorship_tag": "ABX9TyMqwMvj07Zy7M1jHRfCoNDG",
      "include_colab_link": true
    },
    "kernelspec": {
      "name": "python3",
      "display_name": "Python 3"
    },
    "language_info": {
      "name": "python"
    }
  },
  "cells": [
    {
      "cell_type": "markdown",
      "metadata": {
        "id": "view-in-github",
        "colab_type": "text"
      },
      "source": [
        "<a href=\"https://colab.research.google.com/github/naufalihsan/nlp-sentiment-analysis/blob/main/nlp_sentiment_analysis.ipynb\" target=\"_parent\"><img src=\"https://colab.research.google.com/assets/colab-badge.svg\" alt=\"Open In Colab\"/></a>"
      ]
    },
    {
      "cell_type": "code",
      "source": [
        "import pandas as pd\n",
        "import numpy as np\n",
        "import matplotlib.pyplot as plt\n",
        "import re\n",
        "import string"
      ],
      "metadata": {
        "id": "8S7K_Tq8E5LF"
      },
      "execution_count": null,
      "outputs": []
    },
    {
      "cell_type": "code",
      "execution_count": null,
      "metadata": {
        "colab": {
          "base_uri": "https://localhost:8080/"
        },
        "id": "0RezSzhIE1HJ",
        "outputId": "a855f378-c63c-43c0-ae3a-32e34dbbf510"
      },
      "outputs": [
        {
          "output_type": "stream",
          "name": "stderr",
          "text": [
            "[nltk_data] Downloading package twitter_samples to /root/nltk_data...\n",
            "[nltk_data]   Unzipping corpora/twitter_samples.zip.\n"
          ]
        }
      ],
      "source": [
        "import nltk\n",
        "\n",
        "nltk.download('twitter_samples')\n",
        "from nltk.corpus import twitter_samples"
      ]
    },
    {
      "cell_type": "markdown",
      "source": [
        "#### Load Datasets"
      ],
      "metadata": {
        "id": "_26B4Bd7G7ky"
      }
    },
    {
      "cell_type": "code",
      "source": [
        "twitter_samples.fileids()"
      ],
      "metadata": {
        "colab": {
          "base_uri": "https://localhost:8080/"
        },
        "id": "PpCCDqXmE-l7",
        "outputId": "f33bf9c4-15d2-4772-870a-763833f1b2a4"
      },
      "execution_count": null,
      "outputs": [
        {
          "output_type": "execute_result",
          "data": {
            "text/plain": [
              "['negative_tweets.json', 'positive_tweets.json', 'tweets.20150430-223406.json']"
            ]
          },
          "metadata": {},
          "execution_count": 3
        }
      ]
    },
    {
      "cell_type": "code",
      "source": [
        "positive_tweets = twitter_samples.strings('positive_tweets.json')"
      ],
      "metadata": {
        "id": "L7OlgEc8FNf-"
      },
      "execution_count": null,
      "outputs": []
    },
    {
      "cell_type": "code",
      "source": [
        "negative_tweets = twitter_samples.strings('negative_tweets.json')"
      ],
      "metadata": {
        "id": "Q4_NG7McFms6"
      },
      "execution_count": null,
      "outputs": []
    },
    {
      "cell_type": "code",
      "source": [
        "train_pos_tweets = positive_tweets[:4000]"
      ],
      "metadata": {
        "id": "V-DsKpIh0aHr"
      },
      "execution_count": null,
      "outputs": []
    },
    {
      "cell_type": "code",
      "source": [
        "train_neg_tweets = negative_tweets[:4000]"
      ],
      "metadata": {
        "id": "Zv82rxFK0fpd"
      },
      "execution_count": null,
      "outputs": []
    },
    {
      "cell_type": "code",
      "source": [
        "train_tweets = train_pos_tweets + train_neg_tweets"
      ],
      "metadata": {
        "id": "bJe2BKhl0l4M"
      },
      "execution_count": null,
      "outputs": []
    },
    {
      "cell_type": "code",
      "source": [
        "train_labels = np.append(np.ones(len(train_pos_tweets)), np.zeros(len(train_neg_tweets)), axis = 0)"
      ],
      "metadata": {
        "id": "O4tLTt3u09BQ"
      },
      "execution_count": null,
      "outputs": []
    },
    {
      "cell_type": "markdown",
      "source": [
        "#### Preprocessing Tweet"
      ],
      "metadata": {
        "id": "6aQ7WszJJzKo"
      }
    },
    {
      "cell_type": "code",
      "source": [
        "nltk.download('stopwords')\n",
        "from nltk.corpus import stopwords\n",
        "\n",
        "from nltk.stem import PorterStemmer\n",
        "from nltk.tokenize import TweetTokenizer"
      ],
      "metadata": {
        "colab": {
          "base_uri": "https://localhost:8080/"
        },
        "id": "6mFeQq1OJ1ws",
        "outputId": "ad44838d-1cef-414d-b928-0ac203923370"
      },
      "execution_count": null,
      "outputs": [
        {
          "output_type": "stream",
          "name": "stderr",
          "text": [
            "[nltk_data] Downloading package stopwords to /root/nltk_data...\n",
            "[nltk_data]   Unzipping corpora/stopwords.zip.\n"
          ]
        }
      ]
    },
    {
      "cell_type": "code",
      "source": [
        "def preprocess_tweet(tweet):\n",
        "  stemmer = PorterStemmer()\n",
        "  stopwords_english = stopwords.words('english')\n",
        "  \n",
        "  # remove stock market tickers like $GE\n",
        "  tweet = re.sub(r'\\$\\w*', '', tweet)\n",
        "  \n",
        "  # remove old style retweet text \"RT\"\n",
        "  tweet = re.sub(r'^RT[\\s]+', '', tweet)\n",
        "\n",
        "  # remove hyperlinks\n",
        "  tweet = re.sub(r'https?://[^\\s\\n\\r]+', '', tweet)\n",
        "\n",
        "  # remove hashtags\n",
        "  tweet = re.sub(r'#', '', tweet)\n",
        "\n",
        "  # tokenize tweets\n",
        "  tokenizer = TweetTokenizer(preserve_case=False, strip_handles=True, reduce_len=True)\n",
        "  tweet_tokens = tokenizer.tokenize(tweet)\n",
        "\n",
        "  tweets_clean = []\n",
        "  for word in tweet_tokens:\n",
        "      if (word not in stopwords_english and word not in string.punctuation):\n",
        "          stem_word = stemmer.stem(word)\n",
        "          tweets_clean.append(stem_word)\n",
        "\n",
        "  return tweets_clean"
      ],
      "metadata": {
        "id": "DOHmfsROKHmU"
      },
      "execution_count": null,
      "outputs": []
    },
    {
      "cell_type": "markdown",
      "source": [
        "#### Word frequency dictionary"
      ],
      "metadata": {
        "id": "vVm86sPnG4Ef"
      }
    },
    {
      "cell_type": "code",
      "source": [
        "def build_freqs(tweets, labels):\n",
        "  label_list = np.squeeze(labels).tolist()\n",
        "  \n",
        "  freqs = {}\n",
        "  for tweet, label in zip(tweets, label_list):\n",
        "    for word in preprocess_tweet(tweet):\n",
        "      pair = (word, label)\n",
        "      freqs[pair] = freqs.get(pair, 0) + 1\n",
        "\n",
        "  return freqs"
      ],
      "metadata": {
        "id": "4_qaYxDjGq_r"
      },
      "execution_count": null,
      "outputs": []
    },
    {
      "cell_type": "code",
      "source": [
        "freqs = build_freqs(train_tweets, train_labels)"
      ],
      "metadata": {
        "id": "wuwXtZVdH80h"
      },
      "execution_count": null,
      "outputs": []
    },
    {
      "cell_type": "code",
      "source": [
        "keys = ['happi', 'nice', 'good', 'bad', 'sad', 'mad', 'best', 'pretti','song',\n",
        "        'idea', '❤', ':)', ':(', '😒', '😄', 'power', 'play', 'magnific']\n",
        "\n",
        "data = []\n",
        "for word in keys:\n",
        "    pos = 0\n",
        "    neg = 0\n",
        "\n",
        "    if (word, 1) in freqs:\n",
        "        pos = freqs[(word, 1)]\n",
        "      \n",
        "    if (word, 0) in freqs:\n",
        "        neg = freqs[(word, 0)]\n",
        "\n",
        "    data.append([word, pos, neg])"
      ],
      "metadata": {
        "id": "du63vGcmMHuV"
      },
      "execution_count": null,
      "outputs": []
    },
    {
      "cell_type": "code",
      "source": [
        "fig, ax = plt.subplots(figsize = (8, 8))\n",
        "\n",
        "x = np.log([x[1] + 1 for x in data])  \n",
        "y = np.log([x[2] + 1 for x in data])\n",
        "\n",
        "ax.scatter(x, y)  \n",
        "\n",
        "for i in range(0, len(data)):\n",
        "    ax.annotate(data[i][0], (x[i], y[i]), fontsize=12)\n",
        "\n",
        "plt.xlabel(\"Log Positive count\")\n",
        "plt.ylabel(\"Log Negative count\")\n",
        "\n",
        "ax.plot([0, 9], [0, 9], color = 'red')\n",
        "plt.show()"
      ],
      "metadata": {
        "colab": {
          "base_uri": "https://localhost:8080/",
          "height": 497
        },
        "id": "WfjjiGsZH_jg",
        "outputId": "e30f786a-198a-426d-dd28-6bbafe0d257d"
      },
      "execution_count": null,
      "outputs": [
        {
          "output_type": "display_data",
          "data": {
            "text/plain": [
              "<Figure size 576x576 with 1 Axes>"
            ],
            "image/png": "[encoded data removed]"
          },
          "metadata": {
            "needs_background": "light"
          }
        }
      ]
    },
    {
      "cell_type": "markdown",
      "source": [
        "#### Extract tweet features"
      ],
      "metadata": {
        "id": "S8w3qajnpYX-"
      }
    },
    {
      "cell_type": "code",
      "source": [
        "def tweet_to_features(tweets, labels):\n",
        "  label_list = np.squeeze(labels).tolist()\n",
        "  \n",
        "  bias = 1\n",
        "  data = list()\n",
        "  for tweet, label in zip(tweets, label_list):\n",
        "    pos_freq, neg_freq = 0, 0\n",
        "    for word in preprocess_tweet(tweet):\n",
        "      pos_freq += freqs.get((word, 1), 0)\n",
        "      neg_freq += freqs.get((word, 0), 0)\n",
        "\n",
        "    data.append([bias, pos_freq, neg_freq, label])\n",
        "\n",
        "  columns = ['bias', 'positive', 'negative', 'sentiment']\n",
        "  return pd.DataFrame(data=data, columns=columns)"
      ],
      "metadata": {
        "id": "TsqBoh9hNLvX"
      },
      "execution_count": null,
      "outputs": []
    },
    {
      "cell_type": "code",
      "source": [
        "df = tweet_to_features(train_tweets, train_labels)"
      ],
      "metadata": {
        "id": "MNSYQWzbpQ6M"
      },
      "execution_count": null,
      "outputs": []
    },
    {
      "cell_type": "code",
      "source": [
        "df.head()"
      ],
      "metadata": {
        "colab": {
          "base_uri": "https://localhost:8080/",
          "height": 206
        },
        "id": "TKoWM--9ylSo",
        "outputId": "764ae387-77c5-49ae-e8aa-d1ef0df13956"
      },
      "execution_count": null,
      "outputs": [
        {
          "output_type": "execute_result",
          "data": {
            "text/plain": [
              "   bias  positive  negative  sentiment\n",
              "0     1      3133        61        1.0\n",
              "1     1      3705       444        1.0\n",
              "2     1      3119       116        1.0\n",
              "3     1      2975         4        1.0\n",
              "4     1      3232       226        1.0"
            ],
            "text/html": [
              "\n",
              "  <div id=\"df-ae081d39-f017-4c08-b024-9adbc13e282a\">\n",
              "    <div class=\"colab-df-container\">\n",
              "      <div>\n",
              "<style scoped>\n",
              "    .dataframe tbody tr th:only-of-type {\n",
              "        vertical-align: middle;\n",
              "    }\n",
              "\n",
              "    .dataframe tbody tr th {\n",
              "        vertical-align: top;\n",
              "    }\n",
              "\n",
              "    .dataframe thead th {\n",
              "        text-align: right;\n",
              "    }\n",
              "</style>\n",
              "<table border=\"1\" class=\"dataframe\">\n",
              "  <thead>\n",
              "    <tr style=\"text-align: right;\">\n",
              "      <th></th>\n",
              "      <th>bias</th>\n",
              "      <th>positive</th>\n",
              "      <th>negative</th>\n",
              "      <th>sentiment</th>\n",
              "    </tr>\n",
              "  </thead>\n",
              "  <tbody>\n",
              "    <tr>\n",
              "      <th>0</th>\n",
              "      <td>1</td>\n",
              "      <td>3133</td>\n",
              "      <td>61</td>\n",
              "      <td>1.0</td>\n",
              "    </tr>\n",
              "    <tr>\n",
              "      <th>1</th>\n",
              "      <td>1</td>\n",
              "      <td>3705</td>\n",
              "      <td>444</td>\n",
              "      <td>1.0</td>\n",
              "    </tr>\n",
              "    <tr>\n",
              "      <th>2</th>\n",
              "      <td>1</td>\n",
              "      <td>3119</td>\n",
              "      <td>116</td>\n",
              "      <td>1.0</td>\n",
              "    </tr>\n",
              "    <tr>\n",
              "      <th>3</th>\n",
              "      <td>1</td>\n",
              "      <td>2975</td>\n",
              "      <td>4</td>\n",
              "      <td>1.0</td>\n",
              "    </tr>\n",
              "    <tr>\n",
              "      <th>4</th>\n",
              "      <td>1</td>\n",
              "      <td>3232</td>\n",
              "      <td>226</td>\n",
              "      <td>1.0</td>\n",
              "    </tr>\n",
              "  </tbody>\n",
              "</table>\n",
              "</div>\n",
              "      <button class=\"colab-df-convert\" onclick=\"convertToInteractive('df-ae081d39-f017-4c08-b024-9adbc13e282a')\"\n",
              "              title=\"Convert this dataframe to an interactive table.\"\n",
              "              style=\"display:none;\">\n",
              "        \n",
              "  <svg xmlns=\"http://www.w3.org/2000/svg\" height=\"24px\"viewBox=\"0 0 24 24\"\n",
              "       width=\"24px\">\n",
              "    <path d=\"M0 0h24v24H0V0z\" fill=\"none\"/>\n",
              "    <path d=\"M18.56 5.44l.94 2.06.94-2.06 2.06-.94-2.06-.94-.94-2.06-.94 2.06-2.06.94zm-11 1L8.5 8.5l.94-2.06 2.06-.94-2.06-.94L8.5 2.5l-.94 2.06-2.06.94zm10 10l.94 2.06.94-2.06 2.06-.94-2.06-.94-.94-2.06-.94 2.06-2.06.94z\"/><path d=\"M17.41 7.96l-1.37-1.37c-.4-.4-.92-.59-1.43-.59-.52 0-1.04.2-1.43.59L10.3 9.45l-7.72 7.72c-.78.78-.78 2.05 0 2.83L4 21.41c.39.39.9.59 1.41.59.51 0 1.02-.2 1.41-.59l7.78-7.78 2.81-2.81c.8-.78.8-2.07 0-2.86zM5.41 20L4 18.59l7.72-7.72 1.47 1.35L5.41 20z\"/>\n",
              "  </svg>\n",
              "      </button>\n",
              "      \n",
              "  <style>\n",
              "    .colab-df-container {\n",
              "      display:flex;\n",
              "      flex-wrap:wrap;\n",
              "      gap: 12px;\n",
              "    }\n",
              "\n",
              "    .colab-df-convert {\n",
              "      background-color: #E8F0FE;\n",
              "      border: none;\n",
              "      border-radius: 50%;\n",
              "      cursor: pointer;\n",
              "      display: none;\n",
              "      fill: #1967D2;\n",
              "      height: 32px;\n",
              "      padding: 0 0 0 0;\n",
              "      width: 32px;\n",
              "    }\n",
              "\n",
              "    .colab-df-convert:hover {\n",
              "      background-color: #E2EBFA;\n",
              "      box-shadow: 0px 1px 2px rgba(60, 64, 67, 0.3), 0px 1px 3px 1px rgba(60, 64, 67, 0.15);\n",
              "      fill: #174EA6;\n",
              "    }\n",
              "\n",
              "    [theme=dark] .colab-df-convert {\n",
              "      background-color: #3B4455;\n",
              "      fill: #D2E3FC;\n",
              "    }\n",
              "\n",
              "    [theme=dark] .colab-df-convert:hover {\n",
              "      background-color: #434B5C;\n",
              "      box-shadow: 0px 1px 3px 1px rgba(0, 0, 0, 0.15);\n",
              "      filter: drop-shadow(0px 1px 2px rgba(0, 0, 0, 0.3));\n",
              "      fill: #FFFFFF;\n",
              "    }\n",
              "  </style>\n",
              "\n",
              "      <script>\n",
              "        const buttonEl =\n",
              "          document.querySelector('#df-ae081d39-f017-4c08-b024-9adbc13e282a button.colab-df-convert');\n",
              "        buttonEl.style.display =\n",
              "          google.colab.kernel.accessAllowed ? 'block' : 'none';\n",
              "\n",
              "        async function convertToInteractive(key) {\n",
              "          const element = document.querySelector('#df-ae081d39-f017-4c08-b024-9adbc13e282a');\n",
              "          const dataTable =\n",
              "            await google.colab.kernel.invokeFunction('convertToInteractive',\n",
              "                                                     [key], {});\n",
              "          if (!dataTable) return;\n",
              "\n",
              "          const docLinkHtml = 'Like what you see? Visit the ' +\n",
              "            '<a target=\"_blank\" href=https://colab.research.google.com/notebooks/data_table.ipynb>data table notebook</a>'\n",
              "            + ' to learn more about interactive tables.';\n",
              "          element.innerHTML = '';\n",
              "          dataTable['output_type'] = 'display_data';\n",
              "          await google.colab.output.renderOutput(dataTable, element);\n",
              "          const docLink = document.createElement('div');\n",
              "          docLink.innerHTML = docLinkHtml;\n",
              "          element.appendChild(docLink);\n",
              "        }\n",
              "      </script>\n",
              "    </div>\n",
              "  </div>\n",
              "  "
            ]
          },
          "metadata": {},
          "execution_count": 18
        }
      ]
    },
    {
      "cell_type": "markdown",
      "source": [
        "#### Visualize Logistic Regression"
      ],
      "metadata": {
        "id": "_6fGaW9d1iDb"
      }
    },
    {
      "cell_type": "code",
      "source": [
        "X = df[['bias', 'positive', 'negative']].values\n",
        "y = df['sentiment'].values"
      ],
      "metadata": {
        "id": "6fgN4M5sypeb"
      },
      "execution_count": null,
      "outputs": []
    },
    {
      "cell_type": "code",
      "source": [
        "# pretrained model theta (for learning purpose)\n",
        "theta = [6.03518871e-08, 5.38184972e-04, -5.58300168e-04]"
      ],
      "metadata": {
        "id": "7TIQCdCA1bGA"
      },
      "execution_count": null,
      "outputs": []
    },
    {
      "cell_type": "markdown",
      "source": [
        "###### Plot the model alongside the data"
      ],
      "metadata": {
        "id": "mPj-jvZ_26Kd"
      }
    },
    {
      "cell_type": "markdown",
      "source": [
        "$$ z = \\theta * x = 0$$\n",
        "$$ x = [1, pos, neg] $$\n",
        "$$ z(\\theta, x) = \\theta_0+ \\theta_1 * pos + \\theta_2 * neg = 0 $$\n",
        "$$ neg = (-\\theta_0 - \\theta_1 * pos) / \\theta_2 $$"
      ],
      "metadata": {
        "id": "ppVim-f23MTS"
      }
    },
    {
      "cell_type": "code",
      "source": [
        "def neg(theta, pos):\n",
        "    return (-theta[0] - pos * theta[1]) / theta[2]"
      ],
      "metadata": {
        "id": "VK-yjZMV3Lm4"
      },
      "execution_count": null,
      "outputs": []
    },
    {
      "cell_type": "code",
      "source": [
        "def direction(theta, pos):\n",
        "    return pos * theta[2] / theta[1]"
      ],
      "metadata": {
        "id": "nnW2nya71yC4"
      },
      "execution_count": null,
      "outputs": []
    },
    {
      "cell_type": "code",
      "source": [
        "colors = ['red', 'green']\n",
        "fig, ax = plt.subplots(figsize = (8, 8))\n",
        "ax.scatter(X[:,1], X[:,2], c=[colors[int(k)] for k in y], s = 0.1)\n",
        "\n",
        "plt.xlabel(\"Positive\")\n",
        "plt.ylabel(\"Negative\")\n",
        "\n",
        "maxpos = np.max(X[:,1])\n",
        "offset = 5000\n",
        "\n",
        "# Plot a gray line that divides the 2 areas.\n",
        "ax.plot([0,  maxpos], [neg(theta, 0), neg(theta, maxpos)], color = 'gray') \n",
        "\n",
        "# Plot a green line pointing to the positive direction\n",
        "ax.arrow(offset, neg(theta, offset), offset, direction(theta, offset), head_width=500, head_length=500, fc='g', ec='g')\n",
        "\n",
        "# Plot a red line pointing to the negative direction\n",
        "ax.arrow(offset, neg(theta, offset), -offset, -direction(theta, offset), head_width=500, head_length=500, fc='r', ec='r')\n",
        "\n",
        "plt.show()"
      ],
      "metadata": {
        "colab": {
          "base_uri": "https://localhost:8080/",
          "height": 497
        },
        "id": "OW7TiE2j3VDA",
        "outputId": "98dff89c-f2c2-4495-b796-804f9143b362"
      },
      "execution_count": null,
      "outputs": [
        {
          "output_type": "display_data",
          "data": {
            "text/plain": [
              "<Figure size 576x576 with 1 Axes>"
            ],
            "image/png": "[encoded data removed]"
          },
          "metadata": {
            "needs_background": "light"
          }
        }
      ]
    },
    {
      "cell_type": "markdown",
      "source": [
        "#### Build Logistic Regression Model"
      ],
      "metadata": {
        "id": "jvWoB8Rj5Qd7"
      }
    },
    {
      "cell_type": "markdown",
      "source": [
        "##### Sigmoid Function\n",
        "\n",
        "$$z = \\theta_0 x_0 + \\theta_1 x_1 + \\theta_2 x_2 + ... \\theta_N x_N \\tag{1}$$\n",
        "\n",
        "$$ h(z) = \\frac{1}{1+\\exp^{-z}} \\tag{2}$$"
      ],
      "metadata": {
        "id": "0RpXaHza5YvE"
      }
    },
    {
      "cell_type": "code",
      "source": [
        "def sigmoid(z): \n",
        "    '''\n",
        "    Input:\n",
        "        z: is the input (can be a scalar or an array)\n",
        "    Output:\n",
        "        h: the sigmoid of z\n",
        "    '''\n",
        "    h = 1 / (1 + np.exp(-z))\n",
        "      \n",
        "    return h"
      ],
      "metadata": {
        "id": "RMHddeZj5S-E"
      },
      "execution_count": null,
      "outputs": []
    },
    {
      "cell_type": "markdown",
      "source": [
        "##### Cost function\n",
        "\n",
        "$$J(\\theta) = -\\frac{1}{m} \\sum_{i=1}^m y^{(i)}\\log (h(z(\\theta)^{(i)})) + (1-y^{(i)})\\log (1-h(z(\\theta)^{(i)}))\\tag{3} $$\n",
        "\n",
        "Loss function for a single training example\n",
        "\n",
        "$$ Loss = -1 \\times \\left( y^{(i)}\\log (h(z(\\theta)^{(i)})) + (1-y^{(i)})\\log (1-h(z(\\theta)^{(i)})) \\right)$$"
      ],
      "metadata": {
        "id": "eEZzTqnG6D1d"
      }
    },
    {
      "cell_type": "markdown",
      "source": [
        "##### Update the weights\n",
        "\n",
        "$$\\nabla_{\\theta_j}J(\\theta) = \\frac{1}{m} \\sum_{i=1}^m(h^{(i)}-y^{(i)})x^{(i)}_j \\tag{4}$$\n",
        "\n",
        "$$\\theta_j = \\theta_j - \\alpha \\times \\nabla_{\\theta_j}J(\\theta) $$"
      ],
      "metadata": {
        "id": "82ofRG6_7lMe"
      }
    },
    {
      "cell_type": "code",
      "source": [
        "def gradientDescent(x, y, theta, alpha, num_iters):\n",
        "    '''\n",
        "    Input:\n",
        "        x: matrix of features which is (m,n+1)\n",
        "        y: corresponding labels of the input matrix x, dimensions (m,1)\n",
        "        theta: weight vector of dimension (n+1,1)\n",
        "        alpha: learning rate\n",
        "        num_iters: number of iterations you want to train your model for\n",
        "    Output:\n",
        "        J: the final cost\n",
        "        theta: your final weight vector\n",
        "    Hint: you might want to print the cost to make sure that it is going down.\n",
        "    '''\n",
        "    m = x.shape[0]\n",
        "    \n",
        "    for i in range(0, num_iters):\n",
        "        z = np.dot(x, theta)\n",
        "        \n",
        "        h = sigmoid(z)\n",
        "        \n",
        "        J = (-1 * (np.dot(y.T, np.log(h)) + np.dot((1 - y).T, np.log(1-h)))) / m\n",
        "\n",
        "        theta = theta - ((alpha * np.dot(x.T, (h - y))) / m)\n",
        "\n",
        "    return float(J), theta"
      ],
      "metadata": {
        "id": "Z-DgDih97n5z"
      },
      "execution_count": null,
      "outputs": []
    },
    {
      "cell_type": "code",
      "source": [
        "J, theta = gradientDescent(X, y, np.zeros((3, 1)), 1e-9, 1500)"
      ],
      "metadata": {
        "id": "vf6i0Au0_H6n"
      },
      "execution_count": null,
      "outputs": []
    },
    {
      "cell_type": "code",
      "source": [
        "def extract_features(tweet, freqs, preprocess_tweet=preprocess_tweet):\n",
        "    '''\n",
        "    Input: \n",
        "        tweet: a list of words for one tweet\n",
        "        freqs: a dictionary corresponding to the frequencies of each tuple (word, label)\n",
        "    Output: \n",
        "        x: a feature vector of dimension (1,3)\n",
        "    '''\n",
        "    word_l = preprocess_tweet(tweet)\n",
        "\n",
        "    x = np.zeros((1, 3)) \n",
        "    \n",
        "    # bias term\n",
        "    x[0,0] = 1 \n",
        "    \n",
        "    for word in word_l:    \n",
        "        x[0,1] += freqs.get((word, 1), 0)\n",
        "        x[0,2] += freqs.get((word, 0), 0)\n",
        "      \n",
        "    return x"
      ],
      "metadata": {
        "id": "c0UQRVjDGomy"
      },
      "execution_count": null,
      "outputs": []
    },
    {
      "cell_type": "code",
      "source": [
        "def predict_tweet(tweet, freqs, theta):\n",
        "    '''\n",
        "    Input: \n",
        "        tweet: a string\n",
        "        freqs: a dictionary corresponding to the frequencies of each tuple (word, label)\n",
        "        theta: (3,1) vector of weights\n",
        "    Output: \n",
        "        y_pred: the probability of a tweet being positive or negative\n",
        "    '''\n",
        "    x = extract_features(tweet, freqs)\n",
        "    \n",
        "    y_pred = sigmoid(np.dot(x, theta))\n",
        "\n",
        "    return y_pred"
      ],
      "metadata": {
        "id": "wfAuFy7LGJxN"
      },
      "execution_count": null,
      "outputs": []
    },
    {
      "cell_type": "code",
      "source": [
        "example_tweets = [\n",
        "    'I am happy',\n",
        "    'I am bad',\n",
        "    'this movie should have been great.',\n",
        "    'great',\n",
        "    'great great',\n",
        "    'great great great',\n",
        "    'great great great great'\n",
        "]"
      ],
      "metadata": {
        "id": "HKSCjS8aHghs"
      },
      "execution_count": null,
      "outputs": []
    },
    {
      "cell_type": "code",
      "source": [
        "for tweet in example_tweets:\n",
        "    print('%s -> %f' % (tweet, predict_tweet(tweet, freqs, theta)))"
      ],
      "metadata": {
        "colab": {
          "base_uri": "https://localhost:8080/"
        },
        "id": "MFsnOPZoGRFO",
        "outputId": "21cba2a6-942d-4ff6-970a-7acaa47e5ab5"
      },
      "execution_count": null,
      "outputs": [
        {
          "output_type": "stream",
          "name": "stdout",
          "text": [
            "I am happy -> 0.519275\n",
            "I am bad -> 0.494347\n",
            "this movie should have been great. -> 0.515979\n",
            "great -> 0.516065\n",
            "great great -> 0.532096\n",
            "great great great -> 0.548062\n",
            "great great great great -> 0.563929\n"
          ]
        }
      ]
    }
  ]
}